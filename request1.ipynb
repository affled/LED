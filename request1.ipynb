{
  "nbformat": 4,
  "nbformat_minor": 0,
  "metadata": {
    "colab": {
      "provenance": [],
      "authorship_tag": "ABX9TyOQLq4ewSb2FvQ1S3aoN5eY",
      "include_colab_link": true
    },
    "kernelspec": {
      "name": "python3",
      "display_name": "Python 3"
    },
    "language_info": {
      "name": "python"
    }
  },
  "cells": [
    {
      "cell_type": "markdown",
      "metadata": {
        "id": "view-in-github",
        "colab_type": "text"
      },
      "source": [
        "<a href=\"https://colab.research.google.com/github/affled/LED/blob/main/request1.ipynb\" target=\"_parent\"><img src=\"https://colab.research.google.com/assets/colab-badge.svg\" alt=\"Open In Colab\"/></a>"
      ]
    },
    {
      "cell_type": "code",
      "source": [
        "class Chocolate:\n",
        "    def __init__(self, price: float, additive: str, nuts: bool, nuts_amount: int):\n",
        "        if price <= 0:\n",
        "            raise ValueError(\"ОШИБКА! Цена батончика должна быть больше нуля!\")\n",
        "\n",
        "        self.price = price\n",
        "        self.additive = additive\n",
        "        self.nuts = nuts\n",
        "        self.nuts_amount = nuts_amount if nuts else 0\n",
        "\n",
        "    def show_my_chocolate(self):\n",
        "        if self.additive:\n",
        "            print(f\"Шоколадный батончик, добавка: {self.additive}\")\n",
        "        else:\n",
        "            print(\"Обычный шоколадный батончик\")\n",
        "\n",
        "    def count_nuts(self):\n",
        "        if self.nuts:\n",
        "            print(\"*\" * self.nuts_amount)\n",
        "        else:\n",
        "            print(\"В батончике нет орехов\")\n",
        "\n",
        "    def __str__(self):\n",
        "        return f\"Шоколадный батончик, {self.price} рублей\"\n"
      ],
      "metadata": {
        "id": "jiRT0LMf5Sku"
      },
      "execution_count": 20,
      "outputs": []
    },
    {
      "cell_type": "code",
      "source": [
        "try:\n",
        "  chocolate_1 = Chocolate(7.77, \"Изюм\", True, 5)\n",
        "  print(chocolate_1)\n",
        "  chocolate_1.show_my_chocolate()\n",
        "  chocolate_1.count_nuts()\n",
        "\n",
        "  chocolate_2 = Chocolate(-5, \"Вафелька с загаром\", True, 2)\n",
        "  print(chocolate_2)\n",
        "  chocolate_2.show_my_chocolate()\n",
        "  chocolate_2.count_nuts()\n",
        "\n",
        "except ValueError as error:\n",
        "  print (error)"
      ],
      "metadata": {
        "colab": {
          "base_uri": "https://localhost:8080/"
        },
        "id": "glA1xv0N6f9a",
        "outputId": "0f98ac15-f268-4ef1-d863-7594eabd160e"
      },
      "execution_count": 32,
      "outputs": [
        {
          "output_type": "stream",
          "name": "stdout",
          "text": [
            "Шоколадный батончик, 7.77 рублей\n",
            "Шоколадный батончик, добавка: Изюм\n",
            "*****\n",
            "ОШИБКА! Цена батончика должна быть больше нуля!\n"
          ]
        }
      ]
    }
  ]
}